{
 "cells": [
  {
   "cell_type": "markdown",
   "metadata": {},
   "source": [
    "# Программа для импорта статистики группы из Вконтакте"
   ]
  },
  {
   "cell_type": "code",
   "execution_count": 1,
   "metadata": {},
   "outputs": [],
   "source": [
    "import requests\n",
    "import pandas as pd\n",
    "from datetime import datetime\n",
    "import time\n",
    "\n",
    "id_group = 'life'                                                               # ваш домен группы\n",
    "token = 'af567951af567951af5679518caf3e98dfaaf56af567951f3270969be965f073f20981f'                                                              # вставить токен ВК\n",
    "count_posts = 100000000                                                            # колличесво постов для анализа\n"
   ]
  },
  {
   "cell_type": "markdown",
   "metadata": {},
   "source": [
    "Вытаскиваем данные"
   ]
  },
  {
   "cell_type": "code",
   "execution_count": 2,
   "metadata": {},
   "outputs": [],
   "source": [
    "offset = 0      \n",
    "count = 100       \n",
    "data_posts = []\n",
    "\n",
    "while offset < count_posts:\n",
    "\n",
    "    url = 'https://api.vk.com/method/wall.get'\n",
    "    params = {\n",
    "        'domain': id_group,\n",
    "        'filter': 'owner',                                      #owner - посты только от владельца, all = все посты, others - гостевые посты\n",
    "        'count': count,\n",
    "        'offset': offset,\n",
    "        'access_token': token,\n",
    "        'v': 5.73\n",
    "    }\n",
    "    \n",
    "    r = requests.get(url, params = params).json()\n",
    "    \n",
    "    check = True\n",
    "    if check:\n",
    "        real_count = r['response']['count']\n",
    "        if real_count < count_posts:\n",
    "            count_posts = real_count\n",
    "            check = False\n",
    "        else:\n",
    "            check = False\n",
    "    \n",
    "    data_posts += r['response']['items'] \n",
    "    offset += count    \n",
    "    time.sleep(0.5)"
   ]
  },
  {
   "cell_type": "code",
   "execution_count": 5,
   "metadata": {
    "scrolled": true
   },
   "outputs": [],
   "source": [
    "\n",
    "stats = []\n",
    "\n",
    "for record in data_posts:   \n",
    "    title = record['text'].split('\\n')[0]               #название поста берем символы до первого переноса\n",
    "    if len(title) > 80:                                 #я взял первые 80 символов из названия поста\n",
    "        title = title[:80]\n",
    "    \n",
    "    len_title = len(record['text'])                     #вытаскиваем длинну текста\n",
    "    len_title = len_title // 100 *100                   #для удобства групировки по кол-ву символов разбил на промежутки по 100, тоесть если длинна текста 200 это значит , что символов от 200 до 300\n",
    "    \n",
    "    \n",
    "    date = datetime.fromtimestamp(record['date']).strftime('%Y-%m-%d')                   #вытаскиваем дату в формате ГГГГ-ММ-ДД\n",
    "    hour = datetime.fromtimestamp(record['date']).strftime('%H')                         #вытаскиваем час\n",
    "    \n",
    "    \n",
    "    attachment = {'photo' :0, 'audio' :0, 'video': 0 , 'link': 0, 'poll': 0}            #список из типов вложений. Я использовал самые популярные , если у вас другие типы вложений вы можете добавить их в список. Взять можно отсюда https://vk.com/dev/objects/attachments_w\n",
    "        \n",
    "    if 'attachments' in record:                                                          #цикл для подсчета типов и кол-ва вложений\n",
    "        for attach in record['attachments']:\n",
    "            if attach['type'] in attachment:\n",
    "                attachment[attach['type']] = attachment[attach['type']] + 1       \n",
    "        \n",
    "    if 'views' in record:\n",
    "        views = record['views']['count']\n",
    "    else:\n",
    "        views = 0 \n",
    "\n",
    "        \n",
    "    \n",
    "    total_actions = record['comments']['count'] + record['likes']['count'] + record['reposts']['count']    #сумируем все активности \n",
    "    \n",
    "    #создаем список и добавляем в него название, длину, кол-во фото, кол-во аудио, кол-во видео в постах, постов с сылками, пстов с опросами, просмотры, кол-во просмотров, комментариев, лайков, репостов, сумму всех взаимодействий, дату и час  \n",
    "    stats.append([title, len_title, attachment['photo'], attachment['audio'], attachment['video'], attachment['link'], attachment['poll'], views , record['comments']['count'], record['likes']['count'], record['reposts']['count'], total_actions, date, hour])\n",
    "\n",
    "\n",
    "#Создаем DataFrame (таблицу) из данных и записываем\n",
    "columns = [\"name_post\", 'len_text', 'photo', 'audio', 'video', 'link', 'poll', \"views\", \"comments\", \"likes\", \"share\", 'total_action', \"date\", \"hour\"] #задаем заголовки таблицы\n",
    "df = pd.DataFrame(data=stats, columns=columns) \n",
    "\n",
    "#групировка таблиц по часам и удаление не нужных столбцов\n",
    "df_hour = df.drop(['len_text', 'photo', 'audio', 'video', 'link', 'poll'], axis=1)\n",
    "df_group_by_hour = df_hour.groupby('hour').sum()                                                          #группируем значения по часу\n",
    "df_group_by_hour['count_post'] = df_hour.groupby('hour')['name_post'].count()                             #считаем колличесво постов вышедших в данный час\n",
    "df_group_by_hour['mean_action'] = df_group_by_hour['total_action'] /df_group_by_hour['count_post']        #считаем среднее значение активности (все активности / кол-во активностей)\n",
    "df_group_by_hour['views_on_post'] = df_group_by_hour['views'] / df_group_by_hour['count_post']\n",
    "df_group_by_hour['er'] = df_group_by_hour['total_action'] / df_group_by_hour['views'] * 100               #считаем ER (все активности / кол-во просмотров * 100)\n",
    "df_group_by_hour = df_group_by_hour.sort_values(by=\"er\", ascending=False)                                 #сортируем по ER\n",
    "\n",
    "#групировка таблиц по типам и удаление не нужных столбцов\n",
    "df_type = df.drop(['date', 'hour'], axis=1)\n",
    "df_group_by_len_title = df_type.groupby('len_text').sum()\n",
    "df_group_by_len_title['count_posts'] = df_type.groupby('len_text')['name_post'].count()\n",
    "df_group_by_len_title['mean_action'] = df_group_by_len_title['total_action'] / df_group_by_len_title['count_posts']\n",
    "df_group_by_len_title['views_on_post'] = df_group_by_len_title['views'] / df_group_by_len_title['count_posts']\n",
    "df_group_by_len_title['er'] = df_group_by_len_title['total_action'] / df_group_by_len_title['views'] * 100\n",
    "df_group_by_len_title = df_group_by_len_title.sort_values(by='views', ascending=False)\n",
    "df_group_by_len_title = df_group_by_len_title.style.format(\"{:.2f}\")\n",
    "\n",
    "#запись в excel файл \n",
    "with pd.ExcelWriter('data_vk_{}.xlsx'.format(id_group)) as writer:                                     \n",
    "    df.to_excel(writer, index = False , sheet_name='Исходный DataFrame')\n",
    "    df_group_by_hour.to_excel(writer, index = True, sheet_name='Групировка по часу')\n",
    "    df_group_by_len_title.to_excel(writer, index = True, sheet_name='Групировка по кол-ву символов')\n",
    "    for atach in ['photo','audio', 'video','link','poll']:\n",
    "        df_group_by_temp = df_type.groupby(atach).sum()\n",
    "        df_group_by_temp = df_group_by_temp.loc[:,[\"views\", \"comments\", \"likes\", \"share\", 'total_action']]\n",
    "        df_group_by_temp['count_posts'] = df_type.groupby(atach)['name_post'].count()\n",
    "        df_group_by_temp['mean_action'] = df_group_by_temp['total_action'] / df_group_by_temp['count_posts']\n",
    "        df_group_by_temp['views_on_post'] = df_group_by_temp['views'] / df_group_by_temp['count_posts']\n",
    "        df_group_by_temp['er'] = df_group_by_temp['total_action'] / df_group_by_temp['views'] * 100\n",
    "        df_group_by_temp = df_group_by_temp.sort_values(by='er', ascending=False)\n",
    "        df_group_by_temp = df_group_by_temp.style.format(\"{:.2f}\")\n",
    "        sheet_name = 'Групировка по ' + atach \n",
    "        df_group_by_temp.to_excel(writer, index = True, sheet_name=sheet_name)"
   ]
  }
 ],
 "metadata": {
  "kernelspec": {
   "display_name": "Python 3",
   "language": "python",
   "name": "python3"
  },
  "language_info": {
   "codemirror_mode": {
    "name": "ipython",
    "version": 3
   },
   "file_extension": ".py",
   "mimetype": "text/x-python",
   "name": "python",
   "nbconvert_exporter": "python",
   "pygments_lexer": "ipython3",
   "version": "3.6.5"
  },
  "pycharm": {
   "stem_cell": {
    "cell_type": "raw",
    "source": [],
    "metadata": {
     "collapsed": false
    }
   }
  }
 },
 "nbformat": 4,
 "nbformat_minor": 2
}